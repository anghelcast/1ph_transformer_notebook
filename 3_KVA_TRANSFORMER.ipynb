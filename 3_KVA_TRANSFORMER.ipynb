{
 "cells": [
  {
   "cell_type": "markdown",
   "metadata": {},
   "source": [
    "# 3_KVA_TRANSFORMER NOTEBOOK (unfinished)\n",
    "\n",
    "### The purpose of this notebook is to act as a guide for computing & analyzing the single phase transformer using MATLAB or OCTAVE \n",
    "### Status: *in progress* \n",
    "\n",
    "# Contents\n",
    "\n",
    "## 1. Transformer data\n",
    "------------------------------------------------------------\n",
    "------------------------------------------------------------\n",
    "## 1.1 DC Resistance test\n",
    "------------------------------------------------------------\n",
    "------------------------------------------------------------\n",
    "## 1.2 Magnetization characteristics\n",
    "## 1.2.1 B-H Plot based on voltage-current data\n",
    "## 1.2.2 Dynamic permeability plot\n",
    "------------------------------------------------------------\n",
    "------------------------------------------------------------\n",
    "## 1.3 No load test \n",
    "## 1.3.1 Volt Amp Power waveforms @ rated voltage\n",
    "## 1.3.2 Volt Amp Power waveforms ABOVE voltage (special case)\n",
    "## 1.3.3 Exciting admittance\n",
    "------------------------------------------------------------\n",
    "------------------------------------------------------------\n",
    "## 1.4 Short circuit test \n",
    "## 1.4.1 Volt Amp Power waveforms @ rated current\n",
    "## 1.4.2 Short circuit impedance\n",
    "------------------------------------------------------------\n",
    "------------------------------------------------------------\n",
    "## 2. Performance under load \n",
    "\n",
    "## 2.1 Resistive load test\n",
    "## 2.1.1 Efficiency\n",
    "## 2.1.2 Voltage regulation\n",
    "------------------------------------------------------------\n",
    "------------------------------------------------------------\n",
    "## 2.2 Inductive load test\n",
    "## 2.2.1 Efficiency\n",
    "## 2.2.2 Voltage regulation\n",
    "------------------------------------------------------------\n",
    "------------------------------------------------------------\n",
    "## 2.3 Capacitive load test\n",
    "## 2.3.1 Efficiency\n",
    "## 2.3.2 Voltage regulation\n",
    "------------------------------------------------------------\n",
    "------------------------------------------------------------\n",
    "## 2.4 Maximum efficiency criterion\n",
    "\n",
    "------------------------------------------------------------\n",
    "------------------------------------------------------------\n",
    "## 2.5 Sudden short circuit \n",
    "## 2.5.1 Rated voltage\n",
    "## 2.5.2 Above rated voltage\n",
    "------------------------------------------------------------\n",
    "------------------------------------------------------------\n",
    "### *Last update: april 3rd , 2020*\n",
    "\n"
   ]
  },
  {
   "cell_type": "markdown",
   "metadata": {},
   "source": [
    "## 1. Transformer data\n",
    "\n",
    "### The transformer used in this notebook is the tiny one found at the electrical machines department.\n",
    "\n",
    "### The following specs are in its nameplate.\n",
    "\n",
    "### - KVA RATING: 3KVA\n",
    "### - LOW SIDE VOLTAGE: 110V RMS\n",
    "### - HIGH SIDE VOLTAGE: 220V RMS\n",
    "\n",
    "### This transformer could be used to STEP-UP the voltage to power 220V equipment ( *to power up from a hair dryer to a single phase variable frequency drive for example..* )\n",
    "\n",
    "### -*Turns ratio (defined simply as a)*\n",
    "\n",
    "## $$ a = \\frac {V1}{V2} = \\frac {110}{220} = .5  $$\n",
    "\n",
    "### - Remember if:\n",
    "### - a > 1  = Step - down (buck)\n",
    "### - a < 1  = Step - up (boost)\n",
    "### - a = 1  = 1:1 , Isolation\n",
    "\n",
    "\n",
    "------------------------------------------------------------\n",
    "------------------------------------------------------------\n"
   ]
  },
  {
   "cell_type": "markdown",
   "metadata": {},
   "source": [
    "## 1.1 DC Resistance test\n",
    "\n",
    "### This test is conducted to estimate the DC resistance value for each winding.\n",
    "\n",
    "### Remember when applying AC current, the resistance value is higher due to *skin effect* \n",
    "\n",
    "### The test was done with:\n",
    "### - DC current clamp meter (UNI-T  UT-210E)\n",
    "### - Multimeter for DC voltage measurement ( ANENG AN8008 ) \n",
    "### - Switching DC-DC power supply with constant current limit at\n",
    "\n",
    "### - 1 Amp\n",
    "### - 2 Amps\n",
    "### - 3 Amps \n",
    "\n",
    "### The resistance is computed for each stage and finally averaged.\n",
    "\n"
   ]
  },
  {
   "cell_type": "markdown",
   "metadata": {},
   "source": [
    "### @ 1 AMP"
   ]
  },
  {
   "cell_type": "code",
   "execution_count": 4,
   "metadata": {},
   "outputs": [
    {
     "name": "stdout",
     "output_type": "stream",
     "text": [
      "a1 =  0.15280\n",
      "b1 =  0.33509\n"
     ]
    }
   ],
   "source": [
    "% DC RESISTANCE TEST @ 1 AMP\n",
    "dc_ix1=1.034; %DC CURRENT REFERENCE VALUE\n",
    "dc_vx1=0.158; %DC VOLTAGE MEASURED VALUE\n",
    "a1= dc_vx1/dc_ix1 % LOW SIDE DC RESISTANCE VALUE #1\n",
    "dc_ih1=1.14; %DC CURRENT REFERENCE VALUE\n",
    "dc_vh1=0.382; %DC VOLTAGE MEASURED VALUE\n",
    "b1= dc_vh1/dc_ih1 %HIGH SIDE DC RESISTANCE VALUE"
   ]
  },
  {
   "cell_type": "markdown",
   "metadata": {},
   "source": [
    "### @ 2 AMPS"
   ]
  },
  {
   "cell_type": "code",
   "execution_count": 5,
   "metadata": {},
   "outputs": [
    {
     "name": "stdout",
     "output_type": "stream",
     "text": [
      "a2 =  0.14931\n",
      "b2 =  0.33571\n"
     ]
    }
   ],
   "source": [
    "% DC RESISTANCE TEST @ 2 AMP\n",
    "dc_ix2=2.016; %DC CURRENT REFERENCE VALUE\n",
    "dc_vx2=0.301; %DC VOLTAGE MEASURED VALUE\n",
    "a2= dc_vx2/dc_ix2 % LOW SIDE DC RESISTANCE VALUE #2\n",
    "dc_ih2=2.1; %DC CURRENT REFERENCE VALUE\n",
    "dc_vh2=0.705; %DC VOLTAGE MEASURED VALUE\n",
    "b2= dc_vh2/dc_ih2 %HIGH SIDE DC RESISTANCE VALUE"
   ]
  },
  {
   "cell_type": "markdown",
   "metadata": {},
   "source": [
    "### @ 3 AMPS"
   ]
  },
  {
   "cell_type": "code",
   "execution_count": 6,
   "metadata": {},
   "outputs": [
    {
     "name": "stdout",
     "output_type": "stream",
     "text": [
      "a3 =  0.15243\n",
      "b3 =  0.33430\n"
     ]
    }
   ],
   "source": [
    "% DC RESISTANCE TEST @ 3 AMP\n",
    "dc_ix3=3.09; %DC CURRENT REFERENCE VALUE\n",
    "dc_vx3=0.471; %dc volts\n",
    "a3= dc_vx3/dc_ix3 % LOW SIDE DC RESISTANCE VALUE #3\n",
    "dc_ih3=3.09; %DC CURRENT REFERENCE VALUE\n",
    "dc_vh3=1.033; %DC VOLTAGE MEASURED VALUE\n",
    "b3= dc_vh3/dc_ih3 %HIGH SIDE DC RESISTANCE VALUE"
   ]
  },
  {
   "cell_type": "markdown",
   "metadata": {},
   "source": [
    "### Averaging all the values"
   ]
  },
  {
   "cell_type": "code",
   "execution_count": 7,
   "metadata": {},
   "outputs": [
    {
     "name": "stdout",
     "output_type": "stream",
     "text": [
      "rx_dc =  0.15151\n",
      "rh_dc =  0.33504\n"
     ]
    }
   ],
   "source": [
    "% AVERAGE DC RESISTANCE VALUES\n",
    "rx_dc= (a1+a2+a3)/3\n",
    "rh_dc= (b1+b2+b3)/3\n",
    "% MEASURED RESISTANCE VALUES WITH MULTIMETER ARE WAY OFF."
   ]
  },
  {
   "cell_type": "markdown",
   "metadata": {},
   "source": [
    "### The final values were\n",
    "\n",
    "### --------------------------\n",
    "### *Low voltage winding = 0.15151 Ohms*\n",
    "### *High voltage winding = 0.33504 Ohms*\n",
    "### --------------------------\n",
    "\n",
    "### Later on we will check these values in the short circuit test\n",
    "\n",
    "------------------------------------------------------------\n",
    "------------------------------------------------------------\n",
    "\n"
   ]
  },
  {
   "cell_type": "markdown",
   "metadata": {},
   "source": [
    "## 1.2 Magnetization characteristics\n",
    "\n",
    "### This test is conducted to get the relationship between the voltage and the current \n",
    "\n",
    "\n",
    "### Since we know that *B Magnetic field* is related to the induced electromotive force (voltage)\n",
    "\n",
    "### And the fact that *H Auxiliary field* is related to the current flow\n",
    "\n",
    "### Then, if we plot voltage vs current we will get an approximate relationship to the actual B-H Curve\n",
    "\n",
    "### The test was done with:\n",
    "### - AC current clamp meter (UNI-T  UT-210E)\n",
    "### - Multimeter for AC voltage measurement  (ANENG AN8008)\n",
    "### - Single phase autotransformer\n",
    "\n",
    "### The test was done on the LV side (110V rated)\n",
    "\n",
    "\n",
    "### The test was pretty straight forward, just apply enough voltage in order to establish a relatively low current value and record those values.\n",
    "\n",
    "### Keep incresing the current until you reach 20% above rated voltage\n",
    "\n",
    "\n",
    "\n",
    "\n",
    "### The values were recorded in MS excel and saved as a .CSV file (Low_side_mag_curve.csv)\n",
    "\n",
    "\n"
   ]
  },
  {
   "cell_type": "code",
   "execution_count": 8,
   "metadata": {},
   "outputs": [],
   "source": [
    "%MAGNETIZATION CURVE FROM LOW SIDE EXCITATION\n",
    "%LOAD CSV DATA\n",
    "csv1= fopen('Low_side_mag_curve.csv'); %Load CSV file\n",
    "mag_data= textscan(csv1,'%f %f','Headerlines',1,'Delimiter',','); %Load data from mag_curve\n",
    "i_H= mag_data{1,2}(:,1); %Data representing the H auxiliar field\n",
    "v_B= mag_data{1,1}(:,1); %Data representing the B magnetic field\n",
    "f=60; % Source frequency\n",
    "w= 2*pi*f; % Source angular speed"
   ]
  },
  {
   "cell_type": "markdown",
   "metadata": {},
   "source": [
    "## 1.2.1 B-H Plot based on voltage-current data"
   ]
  },
  {
   "cell_type": "code",
   "execution_count": 9,
   "metadata": {},
   "outputs": [
    {
     "data": {
      "image/png": "[encoded data removed]",
      "text/plain": [
       "<IPython.core.display.Image object>"
      ]
     },
     "metadata": {},
     "output_type": "display_data"
    }
   ],
   "source": [
    "% APPROXIMATE B-H CURVE PLOT FROM LOW SIDE EXCITATION\n",
    "plot(i_H,v_B,'b','linewidth',8)\n",
    "grid on\n",
    "set(gca, \"linewidth\", 4, \"fontsize\", 15)\n",
    "title('APPROXIMATE B-H CURVE PLOT FROM LOW SIDE EXCITATION')\n",
    "xlabel('Current (H)')\n",
    "ylabel('Voltage (B)')"
   ]
  },
  {
   "cell_type": "markdown",
   "metadata": {},
   "source": [
    "## 1.2.2 Dynamic permeability plot\n",
    "\n",
    "### Remember that...\n",
    "##  $$ Permeability  = \\frac {B}{H}  $$"
   ]
  },
  {
   "cell_type": "code",
   "execution_count": 10,
   "metadata": {},
   "outputs": [],
   "source": [
    "% PERMEABILITY FROM B-H DATA\n",
    "perm_u= v_B./(i_H);"
   ]
  },
  {
   "cell_type": "code",
   "execution_count": 11,
   "metadata": {},
   "outputs": [
    {
     "data": {
      "image/png": "[encoded data removed]",
      "text/plain": [
       "<IPython.core.display.Image object>"
      ]
     },
     "metadata": {},
     "output_type": "display_data"
    }
   ],
   "source": [
    "% APPROXIMATE DYNAMIC PERMEABILITY PLOT\n",
    "plot(i_H,perm_u,'r','linewidth',8)\n",
    "grid on\n",
    "set(gca, \"linewidth\", 4, \"fontsize\", 15)\n",
    "title('APPROXIMATE DYNAMIC PERMEABILITY PLOT')\n",
    "xlabel('Current (H)')\n",
    "ylabel('Permeability u (B/H)')"
   ]
  },
  {
   "cell_type": "markdown",
   "metadata": {},
   "source": [
    "## 1.3 No load test\n",
    "\n",
    "### This test is conducted to measure the *exciting current*  value in order to represent core phenomena (at no load condition)  into an equivalent circuit branch. Mainly, those phenomena are: \n",
    "\n",
    "### - Core magnetization ------>  its behaviour resembles ------>*linear inductor XL ( magnetizing reactance)*\n",
    "\n",
    "### - Core losses (hysteresis + eddy) ------>  its behaviour resembles ------>*linear resistor RC ( core loss resistor)*\n",
    "\n",
    "\n",
    "### The test was done on the LV side with the following equipment:\n",
    "\n",
    "### - AC current clamp meter (UNI-T  UT-210E)\n",
    "### - Multimeter for AC voltage measurement  (ANENG AN8008)\n",
    "### - AC power clamp meter (MASTECH MS2208)\n",
    "### - Oscilloscope (BK precision 2540B)\n",
    "### - AC/DC current probe (Hantek CC-65)\n",
    "\n",
    "------------------------------------------------------------\n",
    "------------------------------------------------------------\n"
   ]
  },
  {
   "cell_type": "markdown",
   "metadata": {},
   "source": [
    "## 1.3.1 Volt Amp Power waveforms @ rated voltage\n",
    "### The following instantaneous voltage & current waveforms were acquired by the oscilloscope data acquisition setting (waveform saved as a CSV file)\n"
   ]
  },
  {
   "cell_type": "code",
   "execution_count": 12,
   "metadata": {},
   "outputs": [],
   "source": [
    "%NO LOAD TEST FROM LOW SIDE AT RATED VOLTAGE 110V\n",
    "%LOAD CSV DATA\n",
    "t= linspace(-1,1,15000)';\n",
    "csv2= fopen('Exciting_current_rated.csv'); % Load exciting current data at rated voltage\n",
    "csv3= fopen('No_load_input_volt_rated.csv'); % Load no load input rated voltage\n",
    "\n",
    "i_rated_data= textscan(csv2,'%f %f','Headerlines',2,'Delimiter',','); %Load current data\n",
    "i_rated_nl= i_rated_data{1,2}(:,1); %Data representing the exciting current waveform\n",
    "\n",
    "v_rated_data= textscan(csv3,'%f %f','Headerlines',2,'Delimiter',','); %Load voltage data\n",
    "v_rated_nl= v_rated_data{1,2}(:,1); %Data representing the no load input rated voltage\n"
   ]
  },
  {
   "cell_type": "markdown",
   "metadata": {},
   "source": [
    "## A) Input voltage waveform at LV side *(@ RATED VOLTAGE 110V )*"
   ]
  },
  {
   "cell_type": "code",
   "execution_count": 13,
   "metadata": {
    "scrolled": false
   },
   "outputs": [
    {
     "data": {
      "image/png": "[encoded data removed]",
      "text/plain": [
       "<IPython.core.display.Image object>"
      ]
     },
     "metadata": {},
     "output_type": "display_data"
    }
   ],
   "source": [
    "% NO LOAD INPUT RATED VOLTAGE PLOT\n",
    "plot(t,v_rated_nl,'linewidth',8)\n",
    "grid on\n",
    "set(gca, \"linewidth\", 4, \"fontsize\", 15)\n",
    "title('INPUT VOLTAGE WAVEFORM @ NO LOAD')\n",
    "xlabel('Time')\n",
    "ylabel('Amplitude')"
   ]
  },
  {
   "cell_type": "markdown",
   "metadata": {},
   "source": [
    "## B) Exciting current waveform at LV side *(@ RATED VOLTAGE 110V )*\n",
    "\n",
    "### *Notice the non-sinusoidal nature of the exciting current*\n",
    "\n"
   ]
  },
  {
   "cell_type": "code",
   "execution_count": 14,
   "metadata": {
    "scrolled": false
   },
   "outputs": [
    {
     "data": {
      "image/png": "[encoded data removed]",
      "text/plain": [
       "<IPython.core.display.Image object>"
      ]
     },
     "metadata": {},
     "output_type": "display_data"
    }
   ],
   "source": [
    "% EXCITING CURRENT PLOT AT RATED VOLTAGE\n",
    "plot(t,i_rated_nl,'m','linewidth',8)\n",
    "grid on\n",
    "set(gca, \"linewidth\", 4, \"fontsize\", 15)\n",
    "title('EXCITING CURRENT WAVEFORM @ RATED VOLTAGE')\n",
    "xlabel('Time')\n",
    "ylabel('Amplitude')"
   ]
  },
  {
   "cell_type": "markdown",
   "metadata": {},
   "source": [
    "## C) Instantaneous power waveform at LV side *(@ RATED VOLTAGE 110V )*"
   ]
  },
  {
   "cell_type": "code",
   "execution_count": 15,
   "metadata": {},
   "outputs": [],
   "source": [
    "%INSTANTANEOUS POWER AT NO LOAD\n",
    "p_inst_rated= v_rated_nl.*i_rated_nl; "
   ]
  },
  {
   "cell_type": "code",
   "execution_count": 16,
   "metadata": {},
   "outputs": [
    {
     "data": {
      "image/png": "[encoded data removed]",
      "text/plain": [
       "<IPython.core.display.Image object>"
      ]
     },
     "metadata": {},
     "output_type": "display_data"
    }
   ],
   "source": [
    "% INSTANTANEOUS POWER PLOT AT RATED VOLTAGE, NO LOAD\n",
    "plot(t,p_inst_rated,'b','linewidth',8)\n",
    "grid on\n",
    "set(gca, \"linewidth\", 4, \"fontsize\", 15)\n",
    "title('INSTANTANEOUS POWER @ RATED VOLTAGE NO LOAD')\n",
    "xlabel('Time')\n",
    "ylabel('Amplitude')"
   ]
  },
  {
   "cell_type": "markdown",
   "metadata": {},
   "source": [
    "## D) RMS & average power  *(@ RATED VOLTAGE 110V )*\n",
    "\n",
    "### *Remember that the Root Mean Square value of a function is given by...*\n",
    "\n",
    "## $$ RMS= \\sqrt { \\frac{1}{T} \\int_{0}^T f(t)^2* dt } $$\n",
    "\n",
    "### Where f(t) is our data arrangement (either voltage or current ; instantaneous values)\n"
   ]
  },
  {
   "cell_type": "code",
   "execution_count": 17,
   "metadata": {},
   "outputs": [
    {
     "name": "stdout",
     "output_type": "stream",
     "text": [
      "V_rated_rms =  111.55\n",
      "I_rated_rms =  0.93461\n"
     ]
    }
   ],
   "source": [
    "% RMS VOLTAGE AND CURRENT CALCULATIONS @ RATED INPUT\n",
    "V_rated_rms= EC_rms(v_rated_nl) % INPUT VOLTAGE RMS VALUE\n",
    "I_rated_rms= EC_rms(i_rated_nl) % INPUT CURRENT RMS VALUE"
   ]
  },
  {
   "cell_type": "code",
   "execution_count": 18,
   "metadata": {},
   "outputs": [
    {
     "name": "stdout",
     "output_type": "stream",
     "text": [
      "p_rated =  23.184\n"
     ]
    }
   ],
   "source": [
    "% AVERAGE LOSSES @ RATED INPUT\n",
    "p_rated= mean(p_inst_rated) % INPUT AVERAGE POWER VALUE"
   ]
  },
  {
   "cell_type": "markdown",
   "metadata": {},
   "source": [
    "### A) *from CSV files*\n",
    "### --------------------------\n",
    "### -RMS Voltage = 111.55 volts\n",
    "### -RMS current = 0.93461 amps\n",
    "### -Average power = 23.184 watts\n",
    "### --------------------------\n",
    "\n",
    "------------------------------------------------------------\n",
    "------------------------------------------------------------\n",
    "\n",
    "### B) *by measuring*\n",
    "### --------------------------\n",
    "### -RMS Voltage = 110.23 volts\n",
    "### -RMS current = 0.81 amps\n",
    "### -Average power = 17 watts\n",
    "### --------------------------\n",
    "\n",
    "### *This showcases the value of measuring with a high quality TRUE-RMS meter*\n",
    "\n",
    "### We´re gonna stick with the values from the CSV files. They are more reliable since the oscilloscope takes way more samples than a simple & cheap multimeter\n",
    "\n",
    "------------------------------------------------------------\n",
    "------------------------------------------------------------"
   ]
  },
  {
   "cell_type": "markdown",
   "metadata": {},
   "source": [
    "## 1.3.2 Volt Amp Power waveforms ABOVE rated voltage\n",
    "\n",
    "### Altough it seems like something useless, the idea behind is to illustrate the concept of *core saturation* and the consequences of applying voltage ABOVE the rated operating voltage\n",
    "\n",
    "### Remember the previous permeability plot? As the current increases, the permeability goes down...\n",
    "\n",
    "### *Permeability decreases -----> Inductance decreases -----> Current increases -----> Core loss increases*\n",
    "\n",
    "### The following instantaneous voltage & current waveforms were acquired by the oscilloscope data acquisition setting (waveform saved as a CSV file)\n",
    "\n",
    "\n"
   ]
  },
  {
   "cell_type": "code",
   "execution_count": 19,
   "metadata": {},
   "outputs": [],
   "source": [
    "%NO LOAD TEST FROM LOW SIDE AT MAINS VOLTAGE 135V\n",
    "%LOAD CSV DATA\n",
    "csv4= fopen('Exciting_current_mains.csv'); % Load exciting current data at mains voltage\n",
    "csv5= fopen('No_load_input_volt_mains.csv'); % Load no load input mains voltage data\n",
    "\n",
    "i_mains_data= textscan(csv4,'%f %f','Headerlines',2,'Delimiter',','); %Load current data\n",
    "i_mains_nl= i_mains_data{1,2}(:,1); %Data representing the exciting current waveform \n",
    "\n",
    "v_mains_data= textscan(csv5,'%f %f','Headerlines',2,'Delimiter',','); %Load voltage data\n",
    "v_mains_nl= v_mains_data{1,2}(:,1); %Data representing the no load input mains voltage"
   ]
  },
  {
   "cell_type": "markdown",
   "metadata": {},
   "source": [
    "## A) Input voltage waveform at LV side *(@ ABOVE RATED VOLTAGE )*"
   ]
  },
  {
   "cell_type": "code",
   "execution_count": 20,
   "metadata": {},
   "outputs": [
    {
     "data": {
      "image/png": "[encoded data removed]",
      "text/plain": [
       "<IPython.core.display.Image object>"
      ]
     },
     "metadata": {},
     "output_type": "display_data"
    }
   ],
   "source": [
    "% NO LOAD INPUT MAINS VOLTAGE PLOT\n",
    "plot(t,v_mains_nl,'linewidth',8)\n",
    "grid on\n",
    "set(gca, \"linewidth\", 4, \"fontsize\", 15)\n",
    "title('INPUT MAINS VOLTAGE WAVEFORM @ NO LOAD')\n",
    "xlabel('Time')\n",
    "ylabel('Amplitude')"
   ]
  },
  {
   "cell_type": "markdown",
   "metadata": {},
   "source": [
    "## B) Exciting current waveform at LV side *(@ ABOVE RATED VOLTAGE )*\n",
    "\n",
    "### *Notice the increase in the exciting current plot*"
   ]
  },
  {
   "cell_type": "code",
   "execution_count": 21,
   "metadata": {},
   "outputs": [
    {
     "data": {
      "image/png": "[encoded data removed]",
      "text/plain": [
       "<IPython.core.display.Image object>"
      ]
     },
     "metadata": {},
     "output_type": "display_data"
    }
   ],
   "source": [
    "% EXCITING CURRENT PLOT AT MAINS VOLTAGE\n",
    "plot(t,i_mains_nl,'m','linewidth',8)\n",
    "grid on\n",
    "set(gca, \"linewidth\", 4, \"fontsize\", 15)\n",
    "title('EXCITING CURRENT WAVEFORM @ RATED VOLTAGE')\n",
    "xlabel('Time')\n",
    "ylabel('Amplitude')"
   ]
  },
  {
   "cell_type": "markdown",
   "metadata": {},
   "source": [
    "## C) Instantaneous power waveform at LV side *(@ ABOVE RATED VOLTAGE )*"
   ]
  },
  {
   "cell_type": "code",
   "execution_count": 22,
   "metadata": {},
   "outputs": [],
   "source": [
    "%INSTANTANEOUS POWER AT NO LOAD MAINS EXCITATION\n",
    "p_inst_mains= v_mains_nl.*i_mains_nl; "
   ]
  },
  {
   "cell_type": "code",
   "execution_count": 23,
   "metadata": {},
   "outputs": [
    {
     "data": {
      "image/png": "[encoded data removed]",
      "text/plain": [
       "<IPython.core.display.Image object>"
      ]
     },
     "metadata": {},
     "output_type": "display_data"
    }
   ],
   "source": [
    "% INSTANTANEOUS POWER PLOT AT MAINS VOLTAGE, NO LOAD\n",
    "plot(t,p_inst_mains,'b','linewidth',8)\n",
    "grid on\n",
    "set(gca, \"linewidth\", 4, \"fontsize\", 15)\n",
    "title('INSTANTANEOUS POWER @ MAINS VOLTAGE NO LOAD')\n",
    "xlabel('Time')\n",
    "ylabel('Amplitude')"
   ]
  },
  {
   "cell_type": "markdown",
   "metadata": {},
   "source": [
    "## D) RMS & average power  *(@ ABOVE RATED VOLTAGE )*\n",
    "\n",
    "### *Remember that the Root Mean Square value of a function is given by...*\n",
    "\n",
    "## $$ RMS= \\sqrt { \\frac{1}{T} \\int_{0}^T f(t)^2* dt } $$\n",
    "\n",
    "### Where f(t) is our data arrangement (either voltage or current ; instantaneous values)\n",
    "\n",
    "### *Notice the huge increase in the power at no load condition! Just by applying 25 Volts above the rated voltage value.*"
   ]
  },
  {
   "cell_type": "code",
   "execution_count": 24,
   "metadata": {},
   "outputs": [
    {
     "name": "stdout",
     "output_type": "stream",
     "text": [
      "V_mains_rms =  135.07\n",
      "I_mains_rms =  2.4492\n"
     ]
    }
   ],
   "source": [
    "% RMS VOLTAGE AND CURRENT CALCULATIONS @ MAINS INPUT 135V\n",
    "V_mains_rms= EC_rms(v_mains_nl)\n",
    "I_mains_rms= EC_rms(i_mains_nl)"
   ]
  },
  {
   "cell_type": "code",
   "execution_count": 25,
   "metadata": {},
   "outputs": [
    {
     "name": "stdout",
     "output_type": "stream",
     "text": [
      "p_mains =  162.88\n"
     ]
    }
   ],
   "source": [
    "% AVERAGE LOSSES @ MAINS INPUT\n",
    "p_mains= mean(p_inst_mains)"
   ]
  },
  {
   "cell_type": "markdown",
   "metadata": {},
   "source": [
    "\n",
    "### A) *At rated voltage*\n",
    "### --------------------------\n",
    "### -RMS Voltage = 111.55 volts\n",
    "### -RMS current = 0.93461 amps\n",
    "### -Average power = 23.184 watts\n",
    "### --------------------------\n",
    "\n",
    "------------------------------------------------------------\n",
    "------------------------------------------------------------\n",
    "### B) *Above rated voltage*\n",
    "### --------------------------\n",
    "### -RMS Voltage = 135.07 volts\n",
    "### -RMS current =2.4492 amps\n",
    "### -Average power = 162.88 watts\n",
    "### --------------------------\n",
    "\n",
    "------------------------------------------------------------\n",
    "------------------------------------------------------------\n",
    "\n",
    "### *This showcases the risk of powering the transformer above its rated voltage*\n",
    "\n",
    "### Notice that increasing the voltage up to %18.5 above rated voltage causes:\n",
    "\n",
    "### - Current increase by almost 3 TIMES\n",
    "\n",
    "### - Power increase by 7 TIMES\n",
    "------------------------------------------------------------\n",
    "------------------------------------------------------------\n",
    "\n"
   ]
  },
  {
   "cell_type": "markdown",
   "metadata": {},
   "source": [
    "## 1.3.3 Exciting admittance\n",
    "\n",
    "### Remember why we picked the admittance to represent core phenomena?\n",
    "\n",
    "### - *An impedance implies the same current, different voltages for a resistance - reactance arrangement.*\n",
    "\n",
    "### - *An admittance implies the same voltage, different currents for a resistance - reactance arrangement.*\n",
    "\n",
    "### Maybe it is not so clear, but remember that \n",
    "\n",
    "### $$Iexc = Im + Ic$$\n",
    "\n",
    "###  *Where:*\n",
    "### - *Im = Magnetizing current component (current through XM)*\n",
    "### - *Ic  = Core loss current component (current through RC)*\n",
    "\n",
    "### An arrangement in which there is the same voltage across the elements but different currents, its called ADMITTANCE\n",
    "\n",
    "### The calculation is pretty straightforward\n",
    "\n",
    "## $$RC = \\frac { V^2} {P} $$\n",
    "## $$XM = \\frac {V^2} {Q} $$\n",
    "\n",
    "\n",
    "###  *Where:*\n",
    "### - *V = RMS rated voltage*\n",
    "### - *P  = Average power in watts*\n",
    "### - *Q = Reactive power in vars*\n",
    "\n"
   ]
  },
  {
   "cell_type": "code",
   "execution_count": 26,
   "metadata": {},
   "outputs": [
    {
     "name": "stdout",
     "output_type": "stream",
     "text": [
      "Rc =  536.77\n",
      "Xm =  122.42\n"
     ]
    }
   ],
   "source": [
    "% EQUIVALENT CIRCUIT PARAMETER CALCULATIONS @ RATED VALUES\n",
    "%LOW SIDE EXCITING ADMITTANCE\n",
    "Rc= ((V_rated_rms)^2)/p_rated\n",
    "S_rated_nl= V_rated_rms*I_rated_rms;\n",
    "Q_rated_nl= sqrt((S_rated_nl^2)-(p_rated^2));\n",
    "Xm= ((V_rated_rms)^2)/Q_rated_nl"
   ]
  },
  {
   "cell_type": "markdown",
   "metadata": {},
   "source": [
    "### What would happen if we use values ABOVE rated voltage?"
   ]
  },
  {
   "cell_type": "code",
   "execution_count": 27,
   "metadata": {},
   "outputs": [
    {
     "name": "stdout",
     "output_type": "stream",
     "text": [
      "Rc_ov =  112.01\n",
      "Xm_ov =  63.363\n"
     ]
    }
   ],
   "source": [
    "% EQUIVALENT CIRCUIT PARAMETER CALCULATIONS @ RATED VALUES\n",
    "%LOW SIDE EXCITING ADMITTANCE\n",
    "Rc_ov= ((V_mains_rms)^2)/p_mains\n",
    "S_rated_nl_ov= V_mains_rms*I_mains_rms;\n",
    "Q_rated_nl_ov= sqrt((S_rated_nl_ov^2)-(p_mains^2));\n",
    "Xm_ov= ((V_mains_rms)^2)/Q_rated_nl_ov"
   ]
  },
  {
   "cell_type": "markdown",
   "metadata": {},
   "source": [
    "### A) @ rated voltage \n",
    "### --------------------------\n",
    "### RC = 536.77 ohms\n",
    "### XM = 122.42 ohms\n",
    "### --------------------------\n",
    "------------------------------------------------------------\n",
    "------------------------------------------------------------\n",
    "\n",
    "### B) @ ABOVE rated voltage \n",
    "### --------------------------\n",
    "### RC = 112.01 ohms\n",
    "### XM = 63.363 ohms\n",
    "### --------------------------\n",
    "\n",
    "### Notice two key points:\n",
    "\n",
    "### A ) XM value decreased, since:\n",
    "## $$ XM = \\omega * Lm = 2*\\pi*f * Lm $$ \n",
    "### Then we can clearly see that CORE SATURATION causes a *decrease in the magnetizing inductance LM value.*\n",
    "### A decrease in the inductance means a decrease in the reactance, which also *means an INCREASE in the current through it.*\n",
    "### --------------------------\n",
    "### B ) RC value decreased\n",
    "### Since CORE SATURATION causes a *decrease in the magnetizing inductance value* and thus an INCREASE in the current through it.\n",
    "### *An INCREASE in the current means higher power losses in the core,* since:\n",
    "## $$ P = \\frac{V^2}{R} $$\n",
    "### If V is keep constant, in order to increase P the R value must decrease.\n",
    "\n",
    "\n",
    "------------------------------------------------------------\n",
    "------------------------------------------------------------"
   ]
  },
  {
   "cell_type": "code",
   "execution_count": null,
   "metadata": {},
   "outputs": [],
   "source": []
  },
  {
   "cell_type": "code",
   "execution_count": 28,
   "metadata": {},
   "outputs": [],
   "source": [
    "% LOAD SHORT CIRCUIT TEST DATA\n",
    "%LOAD CSV DATA\n",
    "csv6= fopen('High_side_sc_amps.csv'); % Load short circuit current on high side\n",
    "csv7= fopen('High_side_sc_volts.csv'); % Load short circuit voltage on high side\n",
    "\n",
    "i_sc_data= textscan(csv7,'%f %f','Headerlines',2,'Delimiter',','); %Load current data\n",
    "i_sc= i_sc_data{1,2}(:,1); %Data representing the short circuit current waveform \n",
    "\n",
    "v_sc_data= textscan(csv6,'%f %f','Headerlines',2,'Delimiter',','); %Load voltage data\n",
    "v_sc= v_sc_data{1,2}(:,1); %Data representing the short circuit voltage\n"
   ]
  },
  {
   "cell_type": "code",
   "execution_count": 29,
   "metadata": {},
   "outputs": [
    {
     "data": {
      "image/png": "[encoded data removed]",
      "text/plain": [
       "<IPython.core.display.Image object>"
      ]
     },
     "metadata": {},
     "output_type": "display_data"
    }
   ],
   "source": [
    "% SHORT CIRCUIT TEST CURRENT PLOT \n",
    "plot(t,i_sc,'r','linewidth',8)\n",
    "grid on\n",
    "set(gca, \"linewidth\", 4, \"fontsize\", 15)\n",
    "title('SHORT CIRCUIT TEST CURRENT WAVEFORM')\n",
    "xlabel('Time')\n",
    "ylabel('Amplitude')"
   ]
  },
  {
   "cell_type": "code",
   "execution_count": 43,
   "metadata": {
    "scrolled": false
   },
   "outputs": [
    {
     "data": {
      "image/png": "[encoded data removed]",
      "text/plain": [
       "<IPython.core.display.Image object>"
      ]
     },
     "metadata": {},
     "output_type": "display_data"
    }
   ],
   "source": [
    "% SHORT CIRCUIT VOLTAGE PLOT \n",
    "plot(t,v_sc,'m','linewidth',8)\n",
    "grid on\n",
    "set(gca, \"linewidth\", 4, \"fontsize\", 15)\n",
    "title('SHORT CIRCUIT VOLTAGE WAVEFORM')\n",
    "xlabel('Time')\n",
    "ylabel('Amplitude')"
   ]
  },
  {
   "cell_type": "code",
   "execution_count": 44,
   "metadata": {},
   "outputs": [],
   "source": [
    "%INSTANTANEOUS POWER AT SHORT CIRCUIT\n",
    "p_inst_sc= v_sc.*i_sc; "
   ]
  },
  {
   "cell_type": "code",
   "execution_count": 45,
   "metadata": {},
   "outputs": [
    {
     "data": {
      "image/png": "[encoded data removed]",
      "text/plain": [
       "<IPython.core.display.Image object>"
      ]
     },
     "metadata": {},
     "output_type": "display_data"
    }
   ],
   "source": [
    "% INSTANTANEOUS POWER PLOT AT SHORT CIRCUIT\n",
    "plot(t,p_inst_sc,'r','linewidth',8)\n",
    "grid on\n",
    "set(gca, \"linewidth\", 4, \"fontsize\", 15)\n",
    "title('INSTANTANEOUS POWER @ SHORT CIRCUIT')\n",
    "xlabel('Time')\n",
    "ylabel('Amplitude')"
   ]
  },
  {
   "cell_type": "code",
   "execution_count": 33,
   "metadata": {},
   "outputs": [
    {
     "name": "stdout",
     "output_type": "stream",
     "text": [
      "V_sc_rms =  16.865\n",
      "I_sc_rms =  13.526\n"
     ]
    }
   ],
   "source": [
    "% RMS VOLTAGE AND CURRENT CALCULATIONS @ SHORT CIRCUIT\n",
    "V_sc_rms= EC_rms(v_sc)\n",
    "I_sc_rms= EC_rms(i_sc)"
   ]
  },
  {
   "cell_type": "code",
   "execution_count": 34,
   "metadata": {},
   "outputs": [
    {
     "name": "stdout",
     "output_type": "stream",
     "text": [
      "p_sc =  227.08\n"
     ]
    }
   ],
   "source": [
    "% AVERAGE LOSSES @ SHORT CIRCUIT\n",
    "p_sc= mean(p_inst_sc)"
   ]
  },
  {
   "cell_type": "code",
   "execution_count": 35,
   "metadata": {},
   "outputs": [
    {
     "name": "stdout",
     "output_type": "stream",
     "text": [
      "R_sc =  1.2412\n",
      "X_sc =  0.11868\n"
     ]
    }
   ],
   "source": [
    "% EQUIVALENT CIRCUIT PARAMETER CALCULATIONS @ RATED VALUES\n",
    "%HIGH SIDE SHORT CIRCUIT IMPEDANCE\n",
    "Zsc= V_sc_rms/I_sc_rms;\n",
    "S_sc= V_sc_rms*I_sc_rms;\n",
    "Pf_sc= p_sc/S_sc;\n",
    "angle_sc= acosd(Pf_sc);\n",
    "R_sc= Zsc*cosd(angle_sc)\n",
    "X_sc= Zsc*sind(angle_sc)"
   ]
  },
  {
   "cell_type": "code",
   "execution_count": 36,
   "metadata": {},
   "outputs": [
    {
     "name": "stdout",
     "output_type": "stream",
     "text": [
      "X_h =  0.059340\n",
      "R_h =  0.62061\n"
     ]
    }
   ],
   "source": [
    "% EQUIVALENT CIRCUIT PARAMETER CALCULATIONS @ RATED VALUES\n",
    "%LEAKAGE IMPEDANCES ON HIGH SIDE\n",
    "X_h= X_sc/2\n",
    "R_h= R_sc/2\n"
   ]
  },
  {
   "cell_type": "code",
   "execution_count": 37,
   "metadata": {},
   "outputs": [
    {
     "name": "stdout",
     "output_type": "stream",
     "text": [
      "X_x =  0.014835\n",
      "R_x =  0.15515\n"
     ]
    }
   ],
   "source": [
    "% EQUIVALENT CIRCUIT PARAMETER CALCULATIONS @ RATED VALUES\n",
    "%LEAKAGE IMPEDANCES ON lOW SIDE\n",
    "Vs=220;\n",
    "Vp=110;\n",
    "a=220/110;\n",
    "X_x= X_h/(a^2)\n",
    "R_x= R_h/(a^2)\n"
   ]
  },
  {
   "cell_type": "code",
   "execution_count": 38,
   "metadata": {},
   "outputs": [
    {
     "name": "stdout",
     "output_type": "stream",
     "text": [
      "v_test =  110.02\n"
     ]
    }
   ],
   "source": [
    "% TEST #1 COMPUTING EXCITING CURRENT VALUE FROM A SINUSOIDAL RATED EXCITATION ON LOW SIDE\n",
    "V_t= 155.6*sin(w*t);\n",
    "v_test= EC_rms(V_t)"
   ]
  },
  {
   "cell_type": "code",
   "execution_count": 39,
   "metadata": {},
   "outputs": [
    {
     "name": "stdout",
     "output_type": "stream",
     "text": [
      "i_test_a =  1.1020\n"
     ]
    }
   ],
   "source": [
    "%EQUIVALENT MAG IMPEDANCE\n",
    "z1=complex(R_x,X_x);\n",
    "za=complex(Rc,0);\n",
    "zb=complex(Xm,0);\n",
    "zm=(za*zb)/(za+zb);\n",
    "zt= zm+z1;\n",
    "i_test= v_test/zt;\n",
    "i_test_a= abs(i_test)"
   ]
  },
  {
   "cell_type": "code",
   "execution_count": null,
   "metadata": {},
   "outputs": [],
   "source": []
  },
  {
   "cell_type": "code",
   "execution_count": null,
   "metadata": {},
   "outputs": [],
   "source": []
  },
  {
   "cell_type": "code",
   "execution_count": null,
   "metadata": {},
   "outputs": [],
   "source": []
  }
 ],
 "metadata": {
  "kernelspec": {
   "display_name": "Octave",
   "language": "octave",
   "name": "octave"
  },
  "language_info": {
   "file_extension": ".m",
   "help_links": [
    {
     "text": "GNU Octave",
     "url": "https://www.gnu.org/software/octave/support.html"
    },
    {
     "text": "Octave Kernel",
     "url": "https://github.com/Calysto/octave_kernel"
    },
    {
     "text": "MetaKernel Magics",
     "url": "https://metakernel.readthedocs.io/en/latest/source/README.html"
    }
   ],
   "mimetype": "text/x-octave",
   "name": "octave",
   "version": "5.1.0"
  }
 },
 "nbformat": 4,
 "nbformat_minor": 2
}
